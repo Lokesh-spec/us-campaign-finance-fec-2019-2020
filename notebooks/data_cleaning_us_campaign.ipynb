{
 "cells": [
  {
   "cell_type": "code",
   "execution_count": 225,
   "id": "e0344ab1-88b1-4572-a41b-4ea2b2a52e7f",
   "metadata": {},
   "outputs": [],
   "source": [
    "from pyspark.sql import functions as F\n",
    "from pyspark.sql.types import StructType, StructField, StringType, DoubleType, DateType, IntegerType"
   ]
  },
  {
   "cell_type": "code",
   "execution_count": 6,
   "id": "4bf8d3c7-d126-4382-b345-70fafdf2555c",
   "metadata": {},
   "outputs": [],
   "source": [
    "from pyspark.sql import SparkSession\n",
    "\n",
    "jdbc_jar_path = \"/usr/share/java/mysql-connector-j-8.0.32.jar\"\n",
    "\n",
    "spark = (\n",
    "    SparkSession.builder\n",
    "    .appName(\"US Campaign Data Cleaning \")\n",
    "    .config(\"spark.jars\", jdbc_jar_path)\n",
    "\n",
    "    # Memory and execution config\n",
    "    .config(\"spark.executor.memory\", \"6g\")\n",
    "    .config(\"spark.driver.memory\", \"4g\")\n",
    "    .config(\"spark.executor.cores\", \"3\")\n",
    "    .config(\"spark.driver.cores\", \"2\")\n",
    "\n",
    "    # Shuffle and parallelism tuning\n",
    "    .config(\"spark.sql.shuffle.partitions\", \"200\")\n",
    "    .config(\"spark.sql.autoBroadcastJoinThreshold\", \"-1\")\n",
    "\n",
    "    # JDBC and large job tuning\n",
    "    .config(\"spark.network.timeout\", \"300s\")\n",
    "    .config(\"spark.sql.broadcastTimeout\", \"300\")\n",
    "\n",
    "    # Arrow optimization for faster Pandas conversion\n",
    "    .config(\"spark.sql.execution.arrow.pyspark.enabled\", \"true\")\n",
    "\n",
    "    .getOrCreate()\n",
    ")\n"
   ]
  },
  {
   "cell_type": "code",
   "execution_count": 7,
   "id": "23d6f935-e839-4b38-a14e-f60fa967a111",
   "metadata": {},
   "outputs": [
    {
     "data": {
      "text/html": [
       "\n",
       "            <div>\n",
       "                <p><b>SparkSession - hive</b></p>\n",
       "                \n",
       "        <div>\n",
       "            <p><b>SparkContext</b></p>\n",
       "\n",
       "            <p><a href=\"http://campaign-finance-cluster-m.us-central1-f.c.us-campagin-fec-2019-2020.internal:34447\">Spark UI</a></p>\n",
       "\n",
       "            <dl>\n",
       "              <dt>Version</dt>\n",
       "                <dd><code>v3.1.3</code></dd>\n",
       "              <dt>Master</dt>\n",
       "                <dd><code>yarn</code></dd>\n",
       "              <dt>AppName</dt>\n",
       "                <dd><code>PySparkShell</code></dd>\n",
       "            </dl>\n",
       "        </div>\n",
       "        \n",
       "            </div>\n",
       "        "
      ],
      "text/plain": [
       "<pyspark.sql.session.SparkSession at 0x7f0a912a88e0>"
      ]
     },
     "execution_count": 7,
     "metadata": {},
     "output_type": "execute_result"
    }
   ],
   "source": [
    "spark"
   ]
  },
  {
   "cell_type": "markdown",
   "id": "31a8af2b-55e9-4cab-99a7-e4a25d0b04d4",
   "metadata": {},
   "source": [
    "## Common - utils"
   ]
  },
  {
   "cell_type": "code",
   "execution_count": 164,
   "id": "7c2961d1-f63d-4dd0-85b4-7f5e297a713e",
   "metadata": {},
   "outputs": [],
   "source": [
    "import requests\n",
    "from bs4 import BeautifulSoup\n",
    "import pandas as pd\n",
    "\n",
    "def extract_table_data(url, table_class=None):\n",
    "    try:\n",
    "        response = requests.get(url)\n",
    "        response.raise_for_status()\n",
    "    except requests.exceptions.RequestException as e:\n",
    "        print(f\"Error fetching the page: {e}\")\n",
    "        return None\n",
    "\n",
    "    soup = BeautifulSoup(response.content, 'html.parser')\n",
    "    table = soup.find('table', class_=table_class) if table_class else soup.find('table')\n",
    "    if not table:\n",
    "        print(\"Table not found on the page.\")\n",
    "        return None\n",
    "\n",
    "    header_row = table.find('thead').find('tr') if table.find('thead') else table.find('tr')\n",
    "    headers = [th.text.strip() for th in header_row.find_all(['th', 'td'])]\n",
    "\n",
    "    rows = []\n",
    "    for row in table.find_all('tr')[1:]:\n",
    "        cols = row.find_all(['td', 'th'])\n",
    "        if cols:\n",
    "            rows.append([col.text.strip() for col in cols])\n",
    "\n",
    "    return headers, rows\n"
   ]
  },
  {
   "cell_type": "code",
   "execution_count": 165,
   "id": "b17225de-1112-44b9-a1ab-7e58d7351094",
   "metadata": {},
   "outputs": [],
   "source": [
    "## Check Null-like values include: 'None', 'NULL', empty string '', actual nulls, and NaN\n",
    "def get_null_like_counts(df):\n",
    "    null_like_counts = df.select([\n",
    "        F.count(\n",
    "            F.when(\n",
    "                F.col(c).contains('None') |\n",
    "                F.col(c).contains('NULL') |\n",
    "                (F.col(c) == '') |\n",
    "                F.col(c).isNull() |\n",
    "                F.isnan(c),\n",
    "                c\n",
    "            )\n",
    "        ).alias(c) for c in df.columns\n",
    "    ])\n",
    "    return null_like_counts"
   ]
  },
  {
   "cell_type": "code",
   "execution_count": 166,
   "id": "21333453-4d76-4800-9f6d-5c287410bc57",
   "metadata": {},
   "outputs": [],
   "source": [
    "url = \"https://www.fec.gov/campaign-finance-data/party-code-descriptions/\"\n",
    "\n",
    "headers, data = extract_table_data(url)\n",
    "\n",
    "df = pd.DataFrame(data, columns=headers)\n",
    "\n",
    "if 'Notes' in df.columns:\n",
    "    df = df.drop('Notes', axis=1)\n",
    "\n",
    "party_code_description_dict = dict(zip(df['Party code'], df['Party code description']))\n",
    "\n",
    "party_code_description_dict['None'] = 'Unknown'"
   ]
  },
  {
   "cell_type": "markdown",
   "id": "c26e76b5-61db-462a-bdf9-599fa2a0642c",
   "metadata": {},
   "source": [
    "---"
   ]
  },
  {
   "cell_type": "markdown",
   "id": "7e319c65-5a13-4593-bf17-a5a2de74ddea",
   "metadata": {},
   "source": [
    "## Cleaning and Enriching All Candidates Dataset"
   ]
  },
  {
   "cell_type": "code",
   "execution_count": 167,
   "id": "3051fbd5-d029-4674-b407-255bf0578c2c",
   "metadata": {},
   "outputs": [],
   "source": [
    "gcs_input_path = \"bronze-layer\"\n",
    "gcs_output_path = \"silver-layer\"\n",
    "gcs_bucket_path = \"gs://us-campaign-finance-fec-2019-2020/\""
   ]
  },
  {
   "cell_type": "code",
   "execution_count": 168,
   "id": "661b59f6-6366-4089-b509-e94cd21fc67e",
   "metadata": {},
   "outputs": [],
   "source": [
    "all_candidates_schema = StructType([\n",
    "    StructField('CAND_ID', StringType(), False),\n",
    "    StructField('CAND_NAME', StringType(), True),\n",
    "    StructField('CAND_ICI', StringType(), True),\n",
    "    StructField('PTY_CD', StringType(), True),\n",
    "    StructField('CAND_PTY_AFFILIATION', StringType(), True),\n",
    "    StructField('TTL_RECEIPTS', DoubleType(), True),\n",
    "    StructField('TRANS_FROM_AUTH', DoubleType(), True),\n",
    "    StructField('TTL_DISB', DoubleType(), True),\n",
    "    StructField('TRANS_TO_AUTH', DoubleType(), True),\n",
    "    StructField('COH_BOP', DoubleType(), True),\n",
    "    StructField('COH_COP', DoubleType(), True),\n",
    "    StructField('CAND_CONTRIB', DoubleType(), True),\n",
    "    StructField('CAND_LOANS', DoubleType(), True),\n",
    "    StructField('OTHER_LOANS', DoubleType(), True),\n",
    "    StructField('CAND_LOAN_REPAY', DoubleType(), True),\n",
    "    StructField('OTHER_LOAN_REPAY', DoubleType(), True),\n",
    "    StructField('DEBTS_OWED_BY', DoubleType(), True),\n",
    "    StructField('TTL_INDIV_CONTRIB', DoubleType(), True),\n",
    "    StructField('CAND_OFFICE_ST', StringType(), True),\n",
    "    StructField('CAND_OFFICE_DISTRICT', StringType(), True),\n",
    "    StructField('SPEC_ELECTION', StringType(), True),\n",
    "    StructField('PRIM_ELECTION', StringType(), True),\n",
    "    StructField('RUN_ELECTION', StringType(), True),\n",
    "    StructField('GEN_ELECTION', StringType(), True),\n",
    "    StructField('GEN_ELECTION_PRECENT', DoubleType(), True),\n",
    "    StructField('OTHER_POL_CMTE_CONTRIB', DoubleType(), True),\n",
    "    StructField('POL_PTY_CONTRIB', DoubleType(), True),\n",
    "    StructField('CVG_END_DT', StringType(), True),\n",
    "    StructField('INDIV_REFUNDS', DoubleType(), True),\n",
    "    StructField('CMTE_REFUNDS', DoubleType(), True)\n",
    "])"
   ]
  },
  {
   "cell_type": "code",
   "execution_count": 169,
   "id": "a7c82176-27bd-4543-b55d-ea19277e04b0",
   "metadata": {},
   "outputs": [],
   "source": [
    "all_candidates_file_path = f\"{gcs_bucket_path}/{gcs_input_path}/all-candidates/weball20.txt\"\n",
    "\n",
    "all_candidates_df = spark.read.csv(\n",
    "    all_candidates_file_path,\n",
    "    sep='|',\n",
    "    header=None, \n",
    "    schema=all_candidates_schema\n",
    ")"
   ]
  },
  {
   "cell_type": "code",
   "execution_count": 170,
   "id": "5b2b65c3-aab7-49fa-8492-9d00e41005a9",
   "metadata": {},
   "outputs": [
    {
     "name": "stdout",
     "output_type": "stream",
     "text": [
      "root\n",
      " |-- CAND_ID: string (nullable = true)\n",
      " |-- CAND_NAME: string (nullable = true)\n",
      " |-- CAND_ICI: string (nullable = true)\n",
      " |-- PTY_CD: string (nullable = true)\n",
      " |-- CAND_PTY_AFFILIATION: string (nullable = true)\n",
      " |-- TTL_RECEIPTS: double (nullable = true)\n",
      " |-- TRANS_FROM_AUTH: double (nullable = true)\n",
      " |-- TTL_DISB: double (nullable = true)\n",
      " |-- TRANS_TO_AUTH: double (nullable = true)\n",
      " |-- COH_BOP: double (nullable = true)\n",
      " |-- COH_COP: double (nullable = true)\n",
      " |-- CAND_CONTRIB: double (nullable = true)\n",
      " |-- CAND_LOANS: double (nullable = true)\n",
      " |-- OTHER_LOANS: double (nullable = true)\n",
      " |-- CAND_LOAN_REPAY: double (nullable = true)\n",
      " |-- OTHER_LOAN_REPAY: double (nullable = true)\n",
      " |-- DEBTS_OWED_BY: double (nullable = true)\n",
      " |-- TTL_INDIV_CONTRIB: double (nullable = true)\n",
      " |-- CAND_OFFICE_ST: string (nullable = true)\n",
      " |-- CAND_OFFICE_DISTRICT: string (nullable = true)\n",
      " |-- SPEC_ELECTION: string (nullable = true)\n",
      " |-- PRIM_ELECTION: string (nullable = true)\n",
      " |-- RUN_ELECTION: string (nullable = true)\n",
      " |-- GEN_ELECTION: string (nullable = true)\n",
      " |-- GEN_ELECTION_PRECENT: double (nullable = true)\n",
      " |-- OTHER_POL_CMTE_CONTRIB: double (nullable = true)\n",
      " |-- POL_PTY_CONTRIB: double (nullable = true)\n",
      " |-- CVG_END_DT: string (nullable = true)\n",
      " |-- INDIV_REFUNDS: double (nullable = true)\n",
      " |-- CMTE_REFUNDS: double (nullable = true)\n",
      "\n"
     ]
    }
   ],
   "source": [
    "all_candidates_df.printSchema()"
   ]
  },
  {
   "cell_type": "code",
   "execution_count": 171,
   "id": "51287ef9-7df4-4066-b5d7-fbf3502db719",
   "metadata": {},
   "outputs": [
    {
     "name": "stderr",
     "output_type": "stream",
     "text": [
      "[Stage 258:>                                                        (0 + 1) / 1]\r"
     ]
    },
    {
     "name": "stdout",
     "output_type": "stream",
     "text": [
      "+---------+-------------------+--------+------+--------------------+------------+---------------+----------+-------------+---------+---------+------------+----------+-----------+---------------+----------------+-------------+-----------------+--------------+--------------------+-------------+-------------+------------+------------+--------------------+----------------------+---------------+----------+-------------+------------+\n",
      "|  CAND_ID|          CAND_NAME|CAND_ICI|PTY_CD|CAND_PTY_AFFILIATION|TTL_RECEIPTS|TRANS_FROM_AUTH|  TTL_DISB|TRANS_TO_AUTH|  COH_BOP|  COH_COP|CAND_CONTRIB|CAND_LOANS|OTHER_LOANS|CAND_LOAN_REPAY|OTHER_LOAN_REPAY|DEBTS_OWED_BY|TTL_INDIV_CONTRIB|CAND_OFFICE_ST|CAND_OFFICE_DISTRICT|SPEC_ELECTION|PRIM_ELECTION|RUN_ELECTION|GEN_ELECTION|GEN_ELECTION_PRECENT|OTHER_POL_CMTE_CONTRIB|POL_PTY_CONTRIB|CVG_END_DT|INDIV_REFUNDS|CMTE_REFUNDS|\n",
      "+---------+-------------------+--------+------+--------------------+------------+---------------+----------+-------------+---------+---------+------------+----------+-----------+---------------+----------------+-------------+-----------------+--------------+--------------------+-------------+-------------+------------+------------+--------------------+----------------------+---------------+----------+-------------+------------+\n",
      "|H8AK00132|     SHEIN, DIMITRI|       C|     1|                 DEM|         0.0|            0.0|    367.52|          0.0|   367.52|      0.0|         0.0|       0.0|        0.0|         367.52|             0.0|          0.0|              0.0|            AK|                  00|         null|         null|        null|        null|                null|                   0.0|            0.0|09/30/2019|          0.0|         0.0|\n",
      "|H6AK00045|    YOUNG, DONALD E|       I|     2|                 REP|  1950289.86|      138304.94|1817836.79|          0.0|116720.12|249173.19|         0.0|       0.0|        0.0|            0.0|             0.0|          0.0|        963416.04|            AK|                  00|         null|         null|        null|        null|                null|             839094.63|          500.0|12/31/2020|     19609.67|      5500.0|\n",
      "|H8AK01031|NELSON, THOMAS JOHN|       C|     2|                 REP|         0.0|            0.0|    466.51|          0.0|   466.51|      0.0|         0.0|       0.0|        0.0|            0.0|             0.0|          0.0|              0.0|            AK|                  00|         null|         null|        null|        null|                null|                   0.0|            0.0|03/31/2019|          0.0|         0.0|\n",
      "|H8AK00140|      GALVIN, ALYSE|       C|     3|                 IND|  5253251.54|       60024.76|5162902.93|          0.0|  6245.09|  96593.7|     4371.82|       0.0|        0.0|            0.0|             0.0|          0.0|       4796137.47|            AK|                  00|         null|         null|        null|        null|                null|             340486.99|        10025.0|12/31/2020|     32594.02|         0.0|\n",
      "|H0AL01097|    AVERHART, JAMES|       O|     1|                 DEM|    80094.95|            0.0|  78973.24|          0.0|      0.0|  1121.71|         0.0|   29245.0|        0.0|            0.0|             0.0|      29245.0|         50849.95|            AL|                  01|         null|         null|        null|        null|                null|                   0.0|            0.0|12/31/2020|          0.0|         0.0|\n",
      "+---------+-------------------+--------+------+--------------------+------------+---------------+----------+-------------+---------+---------+------------+----------+-----------+---------------+----------------+-------------+-----------------+--------------+--------------------+-------------+-------------+------------+------------+--------------------+----------------------+---------------+----------+-------------+------------+\n",
      "only showing top 5 rows\n",
      "\n"
     ]
    },
    {
     "name": "stderr",
     "output_type": "stream",
     "text": [
      "                                                                                \r"
     ]
    }
   ],
   "source": [
    "all_candidates_df.show(5)"
   ]
  },
  {
   "cell_type": "code",
   "execution_count": 172,
   "id": "e9406e8a-ce06-4e7b-9d3c-b9cedf54a748",
   "metadata": {},
   "outputs": [
    {
     "name": "stderr",
     "output_type": "stream",
     "text": [
      "[Stage 259:>                                                        (0 + 1) / 1]\r"
     ]
    },
    {
     "name": "stdout",
     "output_type": "stream",
     "text": [
      "+-------+---------+--------+------+--------------------+------------+---------------+--------+-------------+-------+-------+------------+----------+-----------+---------------+----------------+-------------+-----------------+--------------+--------------------+-------------+-------------+------------+------------+--------------------+----------------------+---------------+----------+-------------+------------+\n",
      "|CAND_ID|CAND_NAME|CAND_ICI|PTY_CD|CAND_PTY_AFFILIATION|TTL_RECEIPTS|TRANS_FROM_AUTH|TTL_DISB|TRANS_TO_AUTH|COH_BOP|COH_COP|CAND_CONTRIB|CAND_LOANS|OTHER_LOANS|CAND_LOAN_REPAY|OTHER_LOAN_REPAY|DEBTS_OWED_BY|TTL_INDIV_CONTRIB|CAND_OFFICE_ST|CAND_OFFICE_DISTRICT|SPEC_ELECTION|PRIM_ELECTION|RUN_ELECTION|GEN_ELECTION|GEN_ELECTION_PRECENT|OTHER_POL_CMTE_CONTRIB|POL_PTY_CONTRIB|CVG_END_DT|INDIV_REFUNDS|CMTE_REFUNDS|\n",
      "+-------+---------+--------+------+--------------------+------------+---------------+--------+-------------+-------+-------+------------+----------+-----------+---------------+----------------+-------------+-----------------+--------------+--------------------+-------------+-------------+------------+------------+--------------------+----------------------+---------------+----------+-------------+------------+\n",
      "|      0|        0|      78|     0|                   1|           0|              0|       0|            0|      0|      0|           0|         0|          0|              0|               0|            0|                0|             0|                   0|         3980|         3980|        3980|        3980|                3980|                     0|              0|         0|            0|           0|\n",
      "+-------+---------+--------+------+--------------------+------------+---------------+--------+-------------+-------+-------+------------+----------+-----------+---------------+----------------+-------------+-----------------+--------------+--------------------+-------------+-------------+------------+------------+--------------------+----------------------+---------------+----------+-------------+------------+\n",
      "\n"
     ]
    },
    {
     "name": "stderr",
     "output_type": "stream",
     "text": [
      "                                                                                \r"
     ]
    }
   ],
   "source": [
    "all_candidate_null_count = get_null_like_counts(all_candidates_df)\n",
    "all_candidate_null_count.show()"
   ]
  },
  {
   "cell_type": "code",
   "execution_count": 173,
   "id": "1ce9dc19-ac92-41cd-a7e5-d657872ae292",
   "metadata": {},
   "outputs": [],
   "source": [
    "### Dropping 'SPEC_ELECTION', 'RUN_ELECTION', 'GEN_ELECTION', 'GEN_ELECTION_PRECENT' columns because post 2006 they have not provided any data for these column\n",
    "\n",
    "all_candidates_columns_to_drop = ['SPEC_ELECTION',\n",
    " 'PRIM_ELECTION',\n",
    " 'RUN_ELECTION',\n",
    " 'GEN_ELECTION',\n",
    " 'GEN_ELECTION_PRECENT'\n",
    " ]\n",
    "\n",
    "for col_to_drop in all_candidates_columns_to_drop:\n",
    "    all_candidates_df = all_candidates_df.drop(col_to_drop)\n"
   ]
  },
  {
   "cell_type": "code",
   "execution_count": 174,
   "id": "5e15f5b5-1a73-415b-9638-300493e3aa40",
   "metadata": {},
   "outputs": [],
   "source": [
    "## Enriching the data for CAND_ICI and CAND_PTY_AFFILIATION\n",
    "\n",
    "all_candidates_df = all_candidates_df.withColumn(\n",
    "    'CAND_ICI_FULL',\n",
    "    F.when(F.col('CAND_ICI') == 'I', 'Incumbent')\n",
    "     .when(F.col('CAND_ICI') == 'C', 'Challenger')\n",
    "     .when(F.col('CAND_ICI') == 'O', 'Open seat')\n",
    "     .otherwise('Unknown')\n",
    ")"
   ]
  },
  {
   "cell_type": "code",
   "execution_count": 175,
   "id": "a675d864-ba06-40c0-8689-1cd4abbfe0d9",
   "metadata": {},
   "outputs": [],
   "source": [
    "@F.udf(StringType())\n",
    "def map_party_code(party_code):\n",
    "    return party_code_description_dict.get(party_code)"
   ]
  },
  {
   "cell_type": "code",
   "execution_count": 176,
   "id": "4d89405c-8c6c-4b6e-9724-0db41c14fdd1",
   "metadata": {},
   "outputs": [],
   "source": [
    "all_candidates_df = all_candidates_df.withColumn(\n",
    "    \"CAND_PTY_AFFILIATION_FULL\",\n",
    "    map_party_code(F.col('CAND_PTY_AFFILIATION'))\n",
    ")"
   ]
  },
  {
   "cell_type": "code",
   "execution_count": 177,
   "id": "2bfa3d9f-cc86-4516-81d1-3d085c4e067a",
   "metadata": {},
   "outputs": [
    {
     "name": "stderr",
     "output_type": "stream",
     "text": [
      "[Stage 262:>                                                        (0 + 1) / 1]\r"
     ]
    },
    {
     "name": "stdout",
     "output_type": "stream",
     "text": [
      "+-------+---------+--------+------+--------------------+------------+---------------+--------+-------------+-------+-------+------------+----------+-----------+---------------+----------------+-------------+-----------------+--------------+--------------------+----------------------+---------------+----------+-------------+------------+-------------+-------------------------+\n",
      "|CAND_ID|CAND_NAME|CAND_ICI|PTY_CD|CAND_PTY_AFFILIATION|TTL_RECEIPTS|TRANS_FROM_AUTH|TTL_DISB|TRANS_TO_AUTH|COH_BOP|COH_COP|CAND_CONTRIB|CAND_LOANS|OTHER_LOANS|CAND_LOAN_REPAY|OTHER_LOAN_REPAY|DEBTS_OWED_BY|TTL_INDIV_CONTRIB|CAND_OFFICE_ST|CAND_OFFICE_DISTRICT|OTHER_POL_CMTE_CONTRIB|POL_PTY_CONTRIB|CVG_END_DT|INDIV_REFUNDS|CMTE_REFUNDS|CAND_ICI_FULL|CAND_PTY_AFFILIATION_FULL|\n",
      "+-------+---------+--------+------+--------------------+------------+---------------+--------+-------------+-------+-------+------------+----------+-----------+---------------+----------------+-------------+-----------------+--------------+--------------------+----------------------+---------------+----------+-------------+------------+-------------+-------------------------+\n",
      "|      0|        0|      78|     0|                   1|           0|              0|       0|            0|      0|      0|           0|         0|          0|              0|               0|            0|                0|             0|                   0|                     0|              0|         0|            0|           0|            0|                       21|\n",
      "+-------+---------+--------+------+--------------------+------------+---------------+--------+-------------+-------+-------+------------+----------+-----------+---------------+----------------+-------------+-----------------+--------------+--------------------+----------------------+---------------+----------+-------------+------------+-------------+-------------------------+\n",
      "\n"
     ]
    },
    {
     "name": "stderr",
     "output_type": "stream",
     "text": [
      "                                                                                \r"
     ]
    }
   ],
   "source": [
    "all_candidate_null_count = get_null_like_counts(all_candidates_df)\n",
    "all_candidate_null_count.show()"
   ]
  },
  {
   "cell_type": "code",
   "execution_count": 178,
   "id": "c887688a-a7ea-4e29-b0b6-5bc136f5e4f4",
   "metadata": {},
   "outputs": [],
   "source": [
    "## Replacing null value with Unknnow for CAND_ICI and CAND_PTY_AFFILIATION\n",
    "all_candidates_df = all_candidates_df.fillna({'CAND_ICI' : 'Unknown', 'CAND_PTY_AFFILIATION' : 'Unknown', 'CAND_PTY_AFFILIATION_FULL' : 'Unknown'})\n",
    "\n",
    "all_candidates_df = all_candidates_df.withColumn(\n",
    "    'CAND_PTY_AFFILIATION_FULL',\n",
    "    F.when(F.col('CAND_PTY_AFFILIATION_FULL') == 'None', 'Unknown')\n",
    "     .otherwise(F.col('CAND_PTY_AFFILIATION_FULL'))\n",
    ")"
   ]
  },
  {
   "cell_type": "code",
   "execution_count": 179,
   "id": "c757e7a5-d59b-43b2-a471-b62bd6a91dc9",
   "metadata": {},
   "outputs": [
    {
     "name": "stderr",
     "output_type": "stream",
     "text": [
      "[Stage 265:>                                                        (0 + 1) / 1]\r"
     ]
    },
    {
     "name": "stdout",
     "output_type": "stream",
     "text": [
      "+-------+---------+--------+------+--------------------+------------+---------------+--------+-------------+-------+-------+------------+----------+-----------+---------------+----------------+-------------+-----------------+--------------+--------------------+----------------------+---------------+----------+-------------+------------+-------------+-------------------------+\n",
      "|CAND_ID|CAND_NAME|CAND_ICI|PTY_CD|CAND_PTY_AFFILIATION|TTL_RECEIPTS|TRANS_FROM_AUTH|TTL_DISB|TRANS_TO_AUTH|COH_BOP|COH_COP|CAND_CONTRIB|CAND_LOANS|OTHER_LOANS|CAND_LOAN_REPAY|OTHER_LOAN_REPAY|DEBTS_OWED_BY|TTL_INDIV_CONTRIB|CAND_OFFICE_ST|CAND_OFFICE_DISTRICT|OTHER_POL_CMTE_CONTRIB|POL_PTY_CONTRIB|CVG_END_DT|INDIV_REFUNDS|CMTE_REFUNDS|CAND_ICI_FULL|CAND_PTY_AFFILIATION_FULL|\n",
      "+-------+---------+--------+------+--------------------+------------+---------------+--------+-------------+-------+-------+------------+----------+-----------+---------------+----------------+-------------+-----------------+--------------+--------------------+----------------------+---------------+----------+-------------+------------+-------------+-------------------------+\n",
      "|      0|        0|       0|     0|                   0|           0|              0|       0|            0|      0|      0|           0|         0|          0|              0|               0|            0|                0|             0|                   0|                     0|              0|         0|            0|           0|            0|                        0|\n",
      "+-------+---------+--------+------+--------------------+------------+---------------+--------+-------------+-------+-------+------------+----------+-----------+---------------+----------------+-------------+-----------------+--------------+--------------------+----------------------+---------------+----------+-------------+------------+-------------+-------------------------+\n",
      "\n"
     ]
    },
    {
     "name": "stderr",
     "output_type": "stream",
     "text": [
      "                                                                                \r"
     ]
    }
   ],
   "source": [
    "all_candidate_null_count = get_null_like_counts(all_candidates_df)\n",
    "all_candidate_null_count.show()"
   ]
  },
  {
   "cell_type": "code",
   "execution_count": 180,
   "id": "7c94f0e4-f4de-4662-b04f-67033dfe34c5",
   "metadata": {},
   "outputs": [],
   "source": [
    "## Trimming trailing edges\n",
    "\n",
    "for column in all_candidates_df.columns:\n",
    "  if isinstance(all_candidates_df.schema[column].dataType, StringType):\n",
    "    all_candidates_df = all_candidates_df.withColumn(column, F.trim(F.col(column)))  "
   ]
  },
  {
   "cell_type": "code",
   "execution_count": 181,
   "id": "1e14eb8b-f8d5-426c-b237-a08e4efd1e3a",
   "metadata": {},
   "outputs": [],
   "source": [
    "all_candidates_df = all_candidates_df.withColumn('ADJ_RECEIPTS', F.col('TTL_RECEIPTS') - F.col('TRANS_FROM_AUTH'))\n",
    "all_candidates_df = all_candidates_df.withColumn('ADJ_DISBURSEMENTS', F.col('TTL_DISB') - F.col('TRANS_TO_AUTH'))"
   ]
  },
  {
   "cell_type": "code",
   "execution_count": 182,
   "id": "8e2296b6-6e65-410b-987d-79d2698ea792",
   "metadata": {},
   "outputs": [],
   "source": [
    "all_candidates_df = all_candidates_df.withColumn('CVG_END_DT', F.to_date(F.col('CVG_END_DT'), 'MM/dd/yyyy'))"
   ]
  },
  {
   "cell_type": "code",
   "execution_count": 183,
   "id": "f313953d-0fbc-4452-bb36-a5362b027249",
   "metadata": {},
   "outputs": [
    {
     "name": "stderr",
     "output_type": "stream",
     "text": [
      "                                                                                \r"
     ]
    }
   ],
   "source": [
    "all_candidates_df.write.mode('overwrite').parquet(f\"{gcs_bucket_path}/{gcs_output_path}/all_candidates/\")"
   ]
  },
  {
   "cell_type": "code",
   "execution_count": null,
   "id": "5cb00500-f43a-4548-8802-5b2d3e0de65d",
   "metadata": {},
   "outputs": [],
   "source": []
  },
  {
   "cell_type": "markdown",
   "id": "afd28ea1-b807-4a27-9e49-37856b1bb100",
   "metadata": {},
   "source": [
    "---"
   ]
  },
  {
   "cell_type": "markdown",
   "id": "67bfc1b7-d83d-41c9-b707-58f7c1a4075c",
   "metadata": {},
   "source": [
    "## Cleaning Candidate Master Dataset "
   ]
  },
  {
   "cell_type": "code",
   "execution_count": null,
   "id": "bd77c963-0933-47f8-9789-b8780fca7f9a",
   "metadata": {},
   "outputs": [],
   "source": [
    "jdbc_url = \"jdbc:mysql://<Hostname>:3306/<dbname>\"  # Replace with actual hostname and database name\n",
    "\n",
    "table_name = \"candidate_master\"\n",
    "properties = {\n",
    "    \"user\" : \"Username Here\",  # Replace with actual username\n",
    "    \"password\" : \"Password Here\"  # Replace with actual password\n",
    "}"
   ]
  },
  {
   "cell_type": "code",
   "execution_count": 184,
   "id": "09299180-c817-47e8-a74a-3057cbee4fa0",
   "metadata": {},
   "outputs": [
    {
     "name": "stderr",
     "output_type": "stream",
     "text": [
      "[Stage 269:>                                                        (0 + 1) / 1]\r"
     ]
    },
    {
     "name": "stdout",
     "output_type": "stream",
     "text": [
      "+---------+--------------------+--------------------+----------------+--------------+-----------+--------------------+--------+-----------+---------+--------------------+--------+------------+-------+--------+\n",
      "|  CAND_ID|           CAND_NAME|CAND_PTY_AFFILIATION|CAND_ELECTION_YR|CAND_OFFICE_ST|CAND_OFFICE|CAND_OFFICE_DISTRICT|CAND_ICI|CAND_STATUS| CAND_PCC|            CAND_ST1|CAND_ST2|   CAND_CITY|CAND_ST|CAND_ZIP|\n",
      "+---------+--------------------+--------------------+----------------+--------------+-----------+--------------------+--------+-----------+---------+--------------------+--------+------------+-------+--------+\n",
      "|H0AK00105|        LAMB, THOMAS|                 NNE|            2020|            AK|          H|                 0.0|       C|          N|C00607515|1861 W LAKE LUCIL...|     nan|     WASILLA|     AK| 99654.0|\n",
      "|H0AK00113|   TUGATUK, RAY SEAN|                 DEM|            2020|            AK|          H|                 0.0|       C|          N|      nan|          PO BOX 172|     nan|   MANAKOTAK|     AK| 99628.0|\n",
      "|H0AK01046|    CATALANO, THOMAS|                 OTH|            2020|            AK|          H|                 0.0|       C|          N|      nan|188 WEST NORTHERN...|     nan|   ANCHORAGE|     AK| 99503.0|\n",
      "|H0AL01055| CARL, JERRY LEE, JR|                 REP|            2020|            AL|          H|                 1.0|       O|          C|C00697789|       PO BOX 852138|     nan|      MOBILE|     AL| 36685.0|\n",
      "|H0AL01063|LAMBERT, DOUGLAS ...|                 REP|            2020|            AL|          H|                 1.0|       O|          C|C00701557|7194 STILLWATER BLVD|     nan|SPANISH FORT|     AL| 36527.0|\n",
      "+---------+--------------------+--------------------+----------------+--------------+-----------+--------------------+--------+-----------+---------+--------------------+--------+------------+-------+--------+\n",
      "only showing top 5 rows\n",
      "\n"
     ]
    },
    {
     "name": "stderr",
     "output_type": "stream",
     "text": [
      "                                                                                \r"
     ]
    }
   ],
   "source": [
    "candidate_master_df = spark.read.jdbc(\n",
    "    url=jdbc_url,\n",
    "    table=table_name,\n",
    "    properties=properties\n",
    ")\n",
    "\n",
    "candidate_master_df.show(5)"
   ]
  },
  {
   "cell_type": "code",
   "execution_count": 185,
   "id": "a4b6b2d6-9b49-4e28-bc6f-a3b50e0a93c8",
   "metadata": {},
   "outputs": [
    {
     "name": "stderr",
     "output_type": "stream",
     "text": [
      "[Stage 270:>                                                        (0 + 1) / 1]\r"
     ]
    },
    {
     "name": "stdout",
     "output_type": "stream",
     "text": [
      "+-------+---------+--------------------+----------------+--------------+-----------+--------------------+--------+-----------+--------+--------+--------+---------+-------+--------+\n",
      "|CAND_ID|CAND_NAME|CAND_PTY_AFFILIATION|CAND_ELECTION_YR|CAND_OFFICE_ST|CAND_OFFICE|CAND_OFFICE_DISTRICT|CAND_ICI|CAND_STATUS|CAND_PCC|CAND_ST1|CAND_ST2|CAND_CITY|CAND_ST|CAND_ZIP|\n",
      "+-------+---------+--------------------+----------------+--------------+-----------+--------------------+--------+-----------+--------+--------+--------+---------+-------+--------+\n",
      "|0      |0        |7                   |0               |0             |0          |7                   |322     |0          |1421    |189     |6844    |3        |179    |190     |\n",
      "+-------+---------+--------------------+----------------+--------------+-----------+--------------------+--------+-----------+--------+--------+--------+---------+-------+--------+\n",
      "\n"
     ]
    },
    {
     "name": "stderr",
     "output_type": "stream",
     "text": [
      "                                                                                \r"
     ]
    }
   ],
   "source": [
    "candidate_master_null_count = get_null_like_counts(candidate_master_df)\n",
    "\n",
    "candidate_master_null_count.show(truncate=False)"
   ]
  },
  {
   "cell_type": "code",
   "execution_count": 186,
   "id": "e66f060e-1a12-4404-ab4c-c1b035241fd5",
   "metadata": {},
   "outputs": [
    {
     "name": "stdout",
     "output_type": "stream",
     "text": [
      "root\n",
      " |-- CAND_ID: string (nullable = true)\n",
      " |-- CAND_NAME: string (nullable = true)\n",
      " |-- CAND_PTY_AFFILIATION: string (nullable = true)\n",
      " |-- CAND_ELECTION_YR: string (nullable = true)\n",
      " |-- CAND_OFFICE_ST: string (nullable = true)\n",
      " |-- CAND_OFFICE: string (nullable = true)\n",
      " |-- CAND_OFFICE_DISTRICT: string (nullable = true)\n",
      " |-- CAND_ICI: string (nullable = true)\n",
      " |-- CAND_STATUS: string (nullable = true)\n",
      " |-- CAND_PCC: string (nullable = true)\n",
      " |-- CAND_ST1: string (nullable = true)\n",
      " |-- CAND_ST2: string (nullable = true)\n",
      " |-- CAND_CITY: string (nullable = true)\n",
      " |-- CAND_ST: string (nullable = true)\n",
      " |-- CAND_ZIP: string (nullable = true)\n",
      "\n"
     ]
    }
   ],
   "source": [
    "candidate_master_df.printSchema()"
   ]
  },
  {
   "cell_type": "code",
   "execution_count": 187,
   "id": "40732014-2620-4923-9a24-80c1fb79f464",
   "metadata": {},
   "outputs": [
    {
     "name": "stderr",
     "output_type": "stream",
     "text": [
      "                                                                                \r"
     ]
    },
    {
     "data": {
      "text/plain": [
       "7758"
      ]
     },
     "execution_count": 187,
     "metadata": {},
     "output_type": "execute_result"
    }
   ],
   "source": [
    "candidate_master_df.count()"
   ]
  },
  {
   "cell_type": "markdown",
   "id": "24018d39-035c-4262-b7b9-3be7ee094e3b",
   "metadata": {},
   "source": [
    "Since I am working with the 2019-2020 dataset, and the total count of candidates in the all_candidates table is 3,980, I will limit my analysis of the candidate_master table to only those 3,980 candidates to ensure consistency across the datasets."
   ]
  },
  {
   "cell_type": "code",
   "execution_count": 213,
   "id": "f48f532c-a473-4d6b-8c43-cf60215fca2a",
   "metadata": {},
   "outputs": [],
   "source": [
    "candidates_joined_df = candidate_master_df.join(all_candidates_df, on='CAND_ID', how='inner')\n",
    "\n",
    "candidates_result_df = candidates_joined_df.select(\n",
    "    candidate_master_df['*'],\n",
    "    all_candidates_df[\"CAND_ICI_FULL\"],\n",
    "    all_candidates_df[\"CAND_PTY_AFFILIATION_FULL\"]\n",
    ")\n"
   ]
  },
  {
   "cell_type": "code",
   "execution_count": 214,
   "id": "3c0fe878-0417-4853-a494-2f252f33b9f4",
   "metadata": {},
   "outputs": [
    {
     "name": "stderr",
     "output_type": "stream",
     "text": [
      "[Stage 758:>                                                        (0 + 1) / 1]\r"
     ]
    },
    {
     "name": "stdout",
     "output_type": "stream",
     "text": [
      "+-------+---------+--------------------+----------------+--------------+-----------+--------------------+--------+-----------+--------+--------+--------+---------+-------+--------+-------------+-------------------------+\n",
      "|CAND_ID|CAND_NAME|CAND_PTY_AFFILIATION|CAND_ELECTION_YR|CAND_OFFICE_ST|CAND_OFFICE|CAND_OFFICE_DISTRICT|CAND_ICI|CAND_STATUS|CAND_PCC|CAND_ST1|CAND_ST2|CAND_CITY|CAND_ST|CAND_ZIP|CAND_ICI_FULL|CAND_PTY_AFFILIATION_FULL|\n",
      "+-------+---------+--------------------+----------------+--------------+-----------+--------------------+--------+-----------+--------+--------+--------+---------+-------+--------+-------------+-------------------------+\n",
      "|0      |0        |1                   |0               |0             |0          |0                   |78      |0          |6       |176     |3521    |1        |169    |176     |0            |0                        |\n",
      "+-------+---------+--------------------+----------------+--------------+-----------+--------------------+--------+-----------+--------+--------+--------+---------+-------+--------+-------------+-------------------------+\n",
      "\n"
     ]
    },
    {
     "name": "stderr",
     "output_type": "stream",
     "text": [
      "                                                                                \r"
     ]
    }
   ],
   "source": [
    "candidate_master_null_count = get_null_like_counts(candidates_result_df)\n",
    "\n",
    "candidate_master_null_count.show(truncate=False)"
   ]
  },
  {
   "cell_type": "code",
   "execution_count": 215,
   "id": "5f519983-7b5c-4882-9658-cf97aa78fde4",
   "metadata": {},
   "outputs": [],
   "source": [
    "candidates_result_df = candidates_result_df.drop(\"CAND_ST2\")"
   ]
  },
  {
   "cell_type": "code",
   "execution_count": 216,
   "id": "36e518a9-7d86-4769-a408-bcfe98b00f3a",
   "metadata": {},
   "outputs": [],
   "source": [
    "columns_to_clean = [\n",
    "    \"CAND_PTY_AFFILIATION\", \"CAND_ICI\", \"CAND_PCC\",\n",
    "    \"CAND_ST1\", \"CAND_CITY\", \"CAND_ST\", \"CAND_ZIP\"\n",
    "]"
   ]
  },
  {
   "cell_type": "code",
   "execution_count": 219,
   "id": "5a8c1e11-268c-41ab-b86c-4f401a355f51",
   "metadata": {},
   "outputs": [],
   "source": [
    "for col_name in columns_to_clean:\n",
    "    candidates_result_df = candidates_result_df.withColumn(\n",
    "        col_name,\n",
    "        F.when(\n",
    "            (F.col(col_name).isNull()) |\n",
    "            (F.col(col_name) == \"\") |\n",
    "            (F.col(col_name) == \"None\") |\n",
    "            (F.col(col_name) == \"NULL\") |\n",
    "            (F.isnan(F.col(col_name))),\n",
    "            \"Unknown\"\n",
    "        ).otherwise(F.col(col_name))\n",
    "    )"
   ]
  },
  {
   "cell_type": "code",
   "execution_count": 220,
   "id": "fc872edd-ff0c-47a6-9cd1-502034a24070",
   "metadata": {},
   "outputs": [
    {
     "name": "stderr",
     "output_type": "stream",
     "text": [
      "[Stage 776:>                                                        (0 + 1) / 1]\r"
     ]
    },
    {
     "name": "stdout",
     "output_type": "stream",
     "text": [
      "+-------+---------+--------------------+----------------+--------------+-----------+--------------------+--------+-----------+--------+--------+---------+-------+--------+-------------+-------------------------+\n",
      "|CAND_ID|CAND_NAME|CAND_PTY_AFFILIATION|CAND_ELECTION_YR|CAND_OFFICE_ST|CAND_OFFICE|CAND_OFFICE_DISTRICT|CAND_ICI|CAND_STATUS|CAND_PCC|CAND_ST1|CAND_CITY|CAND_ST|CAND_ZIP|CAND_ICI_FULL|CAND_PTY_AFFILIATION_FULL|\n",
      "+-------+---------+--------------------+----------------+--------------+-----------+--------------------+--------+-----------+--------+--------+---------+-------+--------+-------------+-------------------------+\n",
      "|0      |0        |0                   |0               |0             |0          |0                   |0       |0          |0       |0       |0        |0      |0       |0            |0                        |\n",
      "+-------+---------+--------------------+----------------+--------------+-----------+--------------------+--------+-----------+--------+--------+---------+-------+--------+-------------+-------------------------+\n",
      "\n"
     ]
    },
    {
     "name": "stderr",
     "output_type": "stream",
     "text": [
      "                                                                                \r"
     ]
    }
   ],
   "source": [
    "candidate_master_null_count = get_null_like_counts(candidates_result_df)\n",
    "\n",
    "candidate_master_null_count.show(truncate=False)"
   ]
  },
  {
   "cell_type": "markdown",
   "id": "8d4f7144-4804-4067-824c-040ce58d89cb",
   "metadata": {},
   "source": [
    "C = Statutory candidate\n",
    "F = Statutory candidate for future election\n",
    "N = Not yet a statutory candidate\n",
    "P = Statutory candidate in prior cycle"
   ]
  },
  {
   "cell_type": "code",
   "execution_count": 221,
   "id": "6853685c-ca62-4f77-a92a-54efa16380de",
   "metadata": {},
   "outputs": [],
   "source": [
    "candidates_result_df = candidates_result_df.withColumn(\n",
    "    \"CAND_STATUS_FULL\",\n",
    "    F.when(F.col(\"CAND_STATUS\") == \"C\", \"Statutory candidate\")\n",
    "     .when(F.col(\"CAND_STATUS\") == 'F', \"Statutory candidate for future election\")\n",
    "     .when(F.col(\"CAND_STATUS\") == 'N', \"Not yet a statutory candidate\")\n",
    "     .when(F.col(\"CAND_STATUS\") == 'P', \"Statutory candidate in prior cycle\")\n",
    "     .otherwise('Unknown')\n",
    ")"
   ]
  },
  {
   "cell_type": "code",
   "execution_count": 222,
   "id": "322f7ffe-8c7a-488b-b56b-4604965d3d31",
   "metadata": {},
   "outputs": [],
   "source": [
    "candidates_result_df = candidates_result_df.withColumn(\n",
    "    \"CAND_OFFICE_FULL\",\n",
    "    F.when(F.col('CAND_OFFICE') == 'H', \"House\")\n",
    "     .when(F.col('CAND_OFFICE') == 'P', \"President\")\n",
    "     .when(F.col('CAND_OFFICE') == 'S', \"Senate\")\n",
    "     .otherwise('Unknown')\n",
    ")"
   ]
  },
  {
   "cell_type": "code",
   "execution_count": 224,
   "id": "53d25a5f-a23c-43ea-ae0a-2aea5bac62af",
   "metadata": {},
   "outputs": [],
   "source": [
    "## Trimming trailing edges\n",
    "\n",
    "for column in candidates_result_df.columns:\n",
    "  if isinstance(candidates_result_df.schema[column].dataType, StringType):\n",
    "    candidates_result_df = candidates_result_df.withColumn(column, F.trim(F.col(column)))  "
   ]
  },
  {
   "cell_type": "code",
   "execution_count": 226,
   "id": "1ec12710-ddbf-4fc8-a2e6-33fc65ff3fe5",
   "metadata": {},
   "outputs": [],
   "source": [
    "candidates_result_df = candidates_result_df.withColumn('CAND_ELECTION_YR', candidates_result_df['CAND_ELECTION_YR'].cast(IntegerType()))"
   ]
  },
  {
   "cell_type": "code",
   "execution_count": 227,
   "id": "571439a8-d220-433d-85fa-5a28e32349ad",
   "metadata": {},
   "outputs": [
    {
     "name": "stderr",
     "output_type": "stream",
     "text": [
      "                                                                                \r"
     ]
    }
   ],
   "source": [
    "candidates_result_df.write.mode('overwrite').parquet(f\"{gcs_bucket_path}/{gcs_output_path}/candidates_master/\")"
   ]
  },
  {
   "cell_type": "markdown",
   "id": "254bb029-019f-4f5c-8681-695e2fb58b73",
   "metadata": {},
   "source": [
    "---"
   ]
  },
  {
   "cell_type": "code",
   "execution_count": null,
   "id": "c2544d05-23f7-4d75-8ee4-5f7b85ebcda3",
   "metadata": {},
   "outputs": [],
   "source": []
  }
 ],
 "metadata": {
  "kernelspec": {
   "display_name": "PySpark",
   "language": "python",
   "name": "pyspark"
  },
  "language_info": {
   "codemirror_mode": {
    "name": "ipython",
    "version": 3
   },
   "file_extension": ".py",
   "mimetype": "text/x-python",
   "name": "python",
   "nbconvert_exporter": "python",
   "pygments_lexer": "ipython3",
   "version": "3.8.15"
  }
 },
 "nbformat": 4,
 "nbformat_minor": 5
}
